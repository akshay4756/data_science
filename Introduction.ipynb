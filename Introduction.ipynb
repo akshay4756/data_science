{
 "cells": [
  {
   "cell_type": "markdown",
   "id": "35eace79",
   "metadata": {},
   "source": [
    "# Basic commands"
   ]
  },
  {
   "cell_type": "raw",
   "id": "6465d632",
   "metadata": {},
   "source": [
    "Edit mode >> text  # green\n",
    "Command mode >> To give some command # blue\n",
    "Esc >>  To change the mode from edit to command\n",
    "M >> in command mode for Markdown\n",
    "Markdown >> used fo heading\n",
    "Raw NBconvert >> used for writing simple text\n",
    "code >> used for writing line of code"
   ]
  },
  {
   "cell_type": "code",
   "execution_count": null,
   "id": "5dcfb789",
   "metadata": {},
   "outputs": [],
   "source": []
  },
  {
   "cell_type": "code",
   "execution_count": null,
   "id": "15e83b11",
   "metadata": {},
   "outputs": [],
   "source": []
  },
  {
   "cell_type": "raw",
   "id": "a34b0198",
   "metadata": {},
   "source": [
    "B >> to create a new cell below the current\n",
    "A >> to create a new cell above the current\n",
    "DD >> Delete a cell"
   ]
  },
  {
   "cell_type": "markdown",
   "id": "bd0c3451",
   "metadata": {},
   "source": [
    "# Print function"
   ]
  },
  {
   "cell_type": "markdown",
   "id": "53426cf8",
   "metadata": {},
   "source": [
    "## Print function"
   ]
  },
  {
   "cell_type": "markdown",
   "id": "fbf26e1e",
   "metadata": {},
   "source": [
    "### Print function"
   ]
  },
  {
   "cell_type": "markdown",
   "id": "8d626917",
   "metadata": {},
   "source": [
    "#### Print function"
   ]
  },
  {
   "cell_type": "raw",
   "id": "76b7b283",
   "metadata": {},
   "source": [
    "print >> used to print some statements"
   ]
  },
  {
   "cell_type": "code",
   "execution_count": 1,
   "id": "23640655",
   "metadata": {},
   "outputs": [
    {
     "name": "stdout",
     "output_type": "stream",
     "text": [
      "  Hello            \n",
      "   Python           \n",
      "  Data        \n",
      "  Science        \n"
     ]
    }
   ],
   "source": [
    "print('  Hello            ')\n",
    "print(\"   Python           \")\n",
    "print('''  Data        ''')\n",
    "print(\"\"\"  Science        \"\"\")"
   ]
  },
  {
   "cell_type": "code",
   "execution_count": 2,
   "id": "756bc25f",
   "metadata": {
    "scrolled": true
   },
   "outputs": [
    {
     "name": "stdout",
     "output_type": "stream",
     "text": [
      "Welcome to Python and Data Science Class\n"
     ]
    }
   ],
   "source": [
    "print(\"Welcome to Python and Data Science Class\")"
   ]
  },
  {
   "cell_type": "raw",
   "id": "2a8fc105",
   "metadata": {},
   "source": [
    "Python and Data Science"
   ]
  },
  {
   "cell_type": "code",
   "execution_count": 4,
   "id": "facc27de",
   "metadata": {
    "scrolled": true
   },
   "outputs": [
    {
     "name": "stdout",
     "output_type": "stream",
     "text": [
      "Hello, I am Python\n"
     ]
    }
   ],
   "source": [
    "print(\"Hello, I am Python\")"
   ]
  },
  {
   "cell_type": "raw",
   "id": "3cb56075",
   "metadata": {},
   "source": [
    "Ctrl + Enter >> To execute current cell\n",
    "Alt + Enter >> To execute the current and create a new cell below\n",
    "Shift + Enter >> To execute the current cell and to create a new cell if there is no cell below the current cell"
   ]
  },
  {
   "cell_type": "code",
   "execution_count": 5,
   "id": "47894670",
   "metadata": {},
   "outputs": [
    {
     "name": "stdout",
     "output_type": "stream",
     "text": [
      "Machine Learning\n"
     ]
    }
   ],
   "source": [
    "print(\"Machine Learning\")"
   ]
  },
  {
   "cell_type": "code",
   "execution_count": null,
   "id": "b5db030a",
   "metadata": {},
   "outputs": [],
   "source": []
  },
  {
   "cell_type": "code",
   "execution_count": null,
   "id": "a5e3e5d9",
   "metadata": {},
   "outputs": [],
   "source": []
  },
  {
   "cell_type": "code",
   "execution_count": null,
   "id": "4219b545",
   "metadata": {},
   "outputs": [],
   "source": []
  },
  {
   "cell_type": "code",
   "execution_count": 6,
   "id": "9e40b657",
   "metadata": {},
   "outputs": [
    {
     "name": "stdout",
     "output_type": "stream",
     "text": [
      "Machine Learning\n"
     ]
    }
   ],
   "source": [
    "print(\"Machine Learning\")"
   ]
  },
  {
   "cell_type": "markdown",
   "id": "6d5be950",
   "metadata": {},
   "source": [
    "# Heading"
   ]
  },
  {
   "cell_type": "markdown",
   "id": "fe83bdcf",
   "metadata": {},
   "source": [
    "## Heading"
   ]
  },
  {
   "cell_type": "markdown",
   "id": "87ad1691",
   "metadata": {},
   "source": [
    "### Heading"
   ]
  },
  {
   "cell_type": "markdown",
   "id": "4961acd5",
   "metadata": {},
   "source": [
    "# Comments"
   ]
  },
  {
   "cell_type": "code",
   "execution_count": null,
   "id": "98d356c1",
   "metadata": {},
   "outputs": [],
   "source": [
    "Ctrl + / >> to comment a single or number of lines"
   ]
  },
  {
   "cell_type": "code",
   "execution_count": 10,
   "id": "7c158f8a",
   "metadata": {},
   "outputs": [
    {
     "name": "stdout",
     "output_type": "stream",
     "text": [
      "3. We are learning Python and Data Science\n",
      "5. We are learning Python and Data Science\n",
      "6. We are learning Python and Data Science\n"
     ]
    }
   ],
   "source": [
    "# print(\"1. We are learning Python and Data Science\") \n",
    "# print(\"2. We are learning Python and Data Science\")\n",
    "print(\"3. We are learning Python and Data Science\")\n",
    "# print(\"4. We are learning Python and Data Science\")\n",
    "print(\"5. We are learning Python and Data Science\")\n",
    "# print(\"6. We are learning Python and Data Science\")"
   ]
  },
  {
   "cell_type": "code",
   "execution_count": 13,
   "id": "b42f63ef",
   "metadata": {},
   "outputs": [
    {
     "data": {
      "text/plain": [
       "120"
      ]
     },
     "execution_count": 13,
     "metadata": {},
     "output_type": "execute_result"
    }
   ],
   "source": [
    "a = 100\n",
    "b = 20\n",
    "\n",
    "# Addition of two numbers\n",
    "\n",
    "c = a + b\n",
    "c"
   ]
  },
  {
   "cell_type": "code",
   "execution_count": 19,
   "id": "e0d23680",
   "metadata": {},
   "outputs": [
    {
     "name": "stdout",
     "output_type": "stream",
     "text": [
      "1. We are learning Python and Data Science\n",
      "2. We are learning Python and Data Science\n",
      "3. We are learning Python and Data Science\n",
      "4. We are learning Python and Data Science\n",
      "6. We are learning Python and Data Science\n"
     ]
    }
   ],
   "source": [
    "print(\"1. We are learning Python and Data Science\") \n",
    "print(\"2. We are learning Python and Data Science\")\n",
    "print(\"3. We are learning Python and Data Science\")\n",
    "print(\"4. We are learning Python and Data Science\")\n",
    "# print(\"5. We are learning Python and Data Science\")\n",
    "print(\"6. We are learning Python and Data Science\")"
   ]
  },
  {
   "cell_type": "code",
   "execution_count": 17,
   "id": "cad5bdf2",
   "metadata": {
    "scrolled": true
   },
   "outputs": [],
   "source": [
    "print('Adddition of two numbers')"
   ]
  },
  {
   "cell_type": "markdown",
   "id": "76e5f0e0",
   "metadata": {},
   "source": [
    "# Indentation"
   ]
  },
  {
   "cell_type": "code",
   "execution_count": null,
   "id": "d3bbd2f5",
   "metadata": {},
   "outputs": [],
   "source": [
    "Space at the beginning of the code"
   ]
  },
  {
   "cell_type": "code",
   "execution_count": 20,
   "id": "aec71b63",
   "metadata": {
    "scrolled": true
   },
   "outputs": [
    {
     "name": "stdout",
     "output_type": "stream",
     "text": [
      "1. We are learning Python and Data Science\n"
     ]
    }
   ],
   "source": [
    "print(\"1. We are learning Python and Data Science\") "
   ]
  },
  {
   "cell_type": "code",
   "execution_count": 21,
   "id": "3cf84459",
   "metadata": {
    "scrolled": true
   },
   "outputs": [
    {
     "name": "stdout",
     "output_type": "stream",
     "text": [
      "1. We are learning Python and Data Science\n"
     ]
    }
   ],
   "source": [
    "                 print(\"1. We are learning Python and Data Science\") "
   ]
  },
  {
   "cell_type": "code",
   "execution_count": 22,
   "id": "4582e9f7",
   "metadata": {},
   "outputs": [
    {
     "name": "stdout",
     "output_type": "stream",
     "text": [
      "a is greater than 50\n",
      "This condition is true\n",
      "100\n",
      "Hello\n"
     ]
    }
   ],
   "source": [
    "a = 100\n",
    "\n",
    "if a > 50:   # True\n",
    "    print(\"a is greater than 50\")\n",
    "    print(\"This condition is true\")\n",
    "    print(a)\n",
    "    print(\"Hello\")"
   ]
  },
  {
   "cell_type": "code",
   "execution_count": 25,
   "id": "f7c7b63b",
   "metadata": {},
   "outputs": [
    {
     "name": "stdout",
     "output_type": "stream",
     "text": [
      "Hello\n",
      "Python and Data Science\n"
     ]
    }
   ],
   "source": [
    "a = 100\n",
    "\n",
    "if a < 50:   # False\n",
    "    print(\"a is greater than 50\")\n",
    "    print(\"This condition is true\")\n",
    "    print(a)\n",
    "    print(\"Hello\")\n",
    "    \n",
    "\n",
    "print(\"Hello\")\n",
    "print(\"Python and Data Science\")"
   ]
  },
  {
   "cell_type": "code",
   "execution_count": 28,
   "id": "d65240ef",
   "metadata": {
    "scrolled": true
   },
   "outputs": [
    {
     "name": "stdout",
     "output_type": "stream",
     "text": [
      "a is greater than 50\n",
      "Hello\n",
      "*******************\n",
      "Python and Data Science\n"
     ]
    }
   ],
   "source": [
    "a = 100\n",
    "\n",
    "if a > 50:   # True\n",
    "    print(\"a is greater than 50\")\n",
    "#     print(\"This condition is true\")\n",
    "#     print(a)\n",
    "    print(\"Hello\")\n",
    "    \n",
    "    \n",
    " \n",
    "\n",
    "print(\"*******************\")\n",
    "    \n",
    "\n",
    "# print(\"Hello\")\n",
    "print(\"Python and Data Science\")"
   ]
  },
  {
   "cell_type": "code",
   "execution_count": 30,
   "id": "064ca878",
   "metadata": {},
   "outputs": [
    {
     "name": "stdout",
     "output_type": "stream",
     "text": [
      "Hello\n"
     ]
    }
   ],
   "source": [
    "if a > 50:\n",
    "    print(\"Hello\")"
   ]
  },
  {
   "cell_type": "markdown",
   "id": "6fbe2020",
   "metadata": {},
   "source": [
    "# Heading "
   ]
  },
  {
   "cell_type": "code",
   "execution_count": null,
   "id": "2ca633ed",
   "metadata": {},
   "outputs": [],
   "source": [
    "a = 100\n",
    "\n",
    "if a>5:\n",
    "    "
   ]
  },
  {
   "cell_type": "code",
   "execution_count": 2,
   "id": "8293936f",
   "metadata": {},
   "outputs": [
    {
     "name": "stdout",
     "output_type": "stream",
     "text": [
      "Hello\n",
      "Data\n"
     ]
    }
   ],
   "source": [
    "print(\"Hello\")\n",
    "print('Data')"
   ]
  }
 ],
 "metadata": {
  "kernelspec": {
   "display_name": "Python 3 (ipykernel)",
   "language": "python",
   "name": "python3"
  },
  "language_info": {
   "codemirror_mode": {
    "name": "ipython",
    "version": 3
   },
   "file_extension": ".py",
   "mimetype": "text/x-python",
   "name": "python",
   "nbconvert_exporter": "python",
   "pygments_lexer": "ipython3",
   "version": "3.10.0"
  }
 },
 "nbformat": 4,
 "nbformat_minor": 5
}
